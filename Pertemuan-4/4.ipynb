{
 "cells": [
  {
   "cell_type": "code",
   "execution_count": 1,
   "id": "6ac912be-ba94-401c-b5d8-b56a8a8be338",
   "metadata": {},
   "outputs": [],
   "source": [
    "#numpy = numerical phyton"
   ]
  },
  {
   "cell_type": "code",
   "execution_count": 5,
   "id": "a8fb56d5-07f4-4bfc-a63e-fd21105142bc",
   "metadata": {},
   "outputs": [
    {
     "ename": "TypeError",
     "evalue": "can't multiply sequence by non-int of type 'list'",
     "output_type": "error",
     "traceback": [
      "\u001b[0;31m---------------------------------------------------------------------------\u001b[0m",
      "\u001b[0;31mTypeError\u001b[0m                                 Traceback (most recent call last)",
      "\u001b[0;32m<ipython-input-5-54acd865adcc>\u001b[0m in \u001b[0;36m<module>\u001b[0;34m\u001b[0m\n\u001b[1;32m      4\u001b[0m \u001b[0;31m#cari area\u001b[0m\u001b[0;34m\u001b[0m\u001b[0;34m\u001b[0m\u001b[0;34m\u001b[0m\u001b[0m\n\u001b[1;32m      5\u001b[0m \u001b[0;34m\u001b[0m\u001b[0m\n\u001b[0;32m----> 6\u001b[0;31m \u001b[0mtinggi\u001b[0m \u001b[0;34m*\u001b[0m \u001b[0mlebar\u001b[0m \u001b[0;31m#tidak bisa list*list\u001b[0m\u001b[0;34m\u001b[0m\u001b[0;34m\u001b[0m\u001b[0m\n\u001b[0m",
      "\u001b[0;31mTypeError\u001b[0m: can't multiply sequence by non-int of type 'list'"
     ]
    }
   ],
   "source": [
    "tinggi = [51,72,64,87,90]\n",
    "lebar = [100,201,51,12,10]\n",
    "\n",
    "#cari area\n",
    "\n",
    "tinggi * lebar #tidak bisa list*list"
   ]
  },
  {
   "cell_type": "code",
   "execution_count": 4,
   "id": "cf8e5ded-ad4d-4d38-b2ab-80491011362a",
   "metadata": {},
   "outputs": [],
   "source": [
    "import numpy as np"
   ]
  },
  {
   "cell_type": "code",
   "execution_count": 6,
   "id": "48b793a3-f422-41fa-afb5-70a3db0ffc68",
   "metadata": {},
   "outputs": [
    {
     "name": "stdout",
     "output_type": "stream",
     "text": [
      "[ 51000 289440  97920  41760  45000] <class 'numpy.ndarray'>\n"
     ]
    }
   ],
   "source": [
    "arr_tinggi = np.array(tinggi)\n",
    "arr_lebar = np.array(lebar)\n",
    "#panjang = ([10,20,30,40,50])\n",
    "arr_panjang = np.array([10,20,30,40,50])\n",
    "\n",
    "hasil = arr_tinggi * arr_lebar * arr_panjang\n",
    "print(hasil, type(hasil))"
   ]
  },
  {
   "cell_type": "code",
   "execution_count": 7,
   "id": "c6f5d465-0521-4ca4-8294-8d40bed483eb",
   "metadata": {},
   "outputs": [
    {
     "data": {
      "text/plain": [
       "[[1, 2, 3, 4, 5, 6, 7, 8],\n",
       " [1, 2, 3, 4, 5, 6, 7, 8],\n",
       " [1, 2, 3, 4, 5, 6, 7, 8],\n",
       " [1, 2, 3, 4, 5, 6, 7, 8],\n",
       " [1, 2, 3, 4, 5, 6, 7, 8],\n",
       " [1, 2, 3, 4, 5, 6, 7, 8],\n",
       " [1, 2, 3, 4, 5, 6, 7, 8],\n",
       " [1, 2, 3, 4, 5, 6, 7, 8]]"
      ]
     },
     "execution_count": 7,
     "metadata": {},
     "output_type": "execute_result"
    }
   ],
   "source": [
    "# simpan posisi papan catur di dalam array -> 2D\n",
    "[\n",
    "    [1,2,3,4,5,6,7,8],\n",
    "    [1,2,3,4,5,6,7,8],\n",
    "    [1,2,3,4,5,6,7,8],\n",
    "    [1,2,3,4,5,6,7,8],\n",
    "    [1,2,3,4,5,6,7,8],\n",
    "    [1,2,3,4,5,6,7,8],\n",
    "    [1,2,3,4,5,6,7,8],\n",
    "    [1,2,3,4,5,6,7,8],\n",
    "]"
   ]
  },
  {
   "cell_type": "code",
   "execution_count": 8,
   "id": "deb13a46-cda8-4520-bb73-2dbad17032f6",
   "metadata": {},
   "outputs": [
    {
     "data": {
      "text/plain": [
       "array([0., 0., 0., 0., 0.])"
      ]
     },
     "execution_count": 8,
     "metadata": {},
     "output_type": "execute_result"
    }
   ],
   "source": [
    "# built-in function milik numpy, contohnya:\n",
    "np.zeros(5)"
   ]
  },
  {
   "cell_type": "code",
   "execution_count": 9,
   "id": "bd38ad64-ef29-4fe6-98ec-9455adbc08c8",
   "metadata": {},
   "outputs": [
    {
     "data": {
      "text/plain": [
       "array([1., 1., 1.])"
      ]
     },
     "execution_count": 9,
     "metadata": {},
     "output_type": "execute_result"
    }
   ],
   "source": [
    "np.ones(3)"
   ]
  },
  {
   "cell_type": "code",
   "execution_count": 10,
   "id": "40e0e03f-f3ed-421f-b116-14304948117a",
   "metadata": {},
   "outputs": [
    {
     "data": {
      "text/plain": [
       "array([ 2.68156159e+154, -2.32035459e+077,  1.73059952e-077,\n",
       "        2.78134232e-309])"
      ]
     },
     "execution_count": 10,
     "metadata": {},
     "output_type": "execute_result"
    }
   ],
   "source": [
    "np.empty(4)"
   ]
  },
  {
   "cell_type": "code",
   "execution_count": 11,
   "id": "8d399730-190f-4c51-b7cc-20ea80748a4a",
   "metadata": {},
   "outputs": [
    {
     "data": {
      "text/plain": [
       "array([0, 1, 2, 3, 4])"
      ]
     },
     "execution_count": 11,
     "metadata": {},
     "output_type": "execute_result"
    }
   ],
   "source": [
    "np.arange(5)"
   ]
  },
  {
   "cell_type": "code",
   "execution_count": 12,
   "id": "9489af25-f23d-427a-b825-73a2775c3d6b",
   "metadata": {},
   "outputs": [
    {
     "name": "stdout",
     "output_type": "stream",
     "text": [
      "0\n",
      "1\n",
      "2\n",
      "3\n",
      "4\n",
      "5\n",
      "6\n",
      "7\n",
      "8\n",
      "9\n"
     ]
    }
   ],
   "source": [
    "for i in range(10):\n",
    "    print(i)"
   ]
  },
  {
   "cell_type": "code",
   "execution_count": 13,
   "id": "a1122c7f-1867-4c77-bfda-dd61df5b9d41",
   "metadata": {},
   "outputs": [
    {
     "data": {
      "text/plain": [
       "array([0, 1, 2, 3, 4, 5, 6, 7, 8, 9])"
      ]
     },
     "execution_count": 13,
     "metadata": {},
     "output_type": "execute_result"
    }
   ],
   "source": [
    "np.arange(10)"
   ]
  },
  {
   "cell_type": "code",
   "execution_count": 14,
   "id": "b475ad78-240d-4f67-9ba7-e735fef65d4e",
   "metadata": {},
   "outputs": [
    {
     "name": "stdout",
     "output_type": "stream",
     "text": [
      "7\n",
      "9\n",
      "11\n",
      "13\n"
     ]
    }
   ],
   "source": [
    "for i in range(7,15,2):\n",
    "    print(i)"
   ]
  },
  {
   "cell_type": "code",
   "execution_count": 15,
   "id": "27216086-6640-4427-a656-98030e44c0ad",
   "metadata": {},
   "outputs": [
    {
     "data": {
      "text/plain": [
       "array([ 7,  9, 11, 13])"
      ]
     },
     "execution_count": 15,
     "metadata": {},
     "output_type": "execute_result"
    }
   ],
   "source": [
    "arr_numbers = np.arange(7,15,2)\n",
    "arr_numbers"
   ]
  },
  {
   "cell_type": "code",
   "execution_count": 16,
   "id": "7af9100f-2995-48d5-a77d-27561b0071c9",
   "metadata": {},
   "outputs": [
    {
     "data": {
      "text/plain": [
       "array([ 7,  9, 11, 13, 15])"
      ]
     },
     "execution_count": 16,
     "metadata": {},
     "output_type": "execute_result"
    }
   ],
   "source": [
    "arr_numbers = np.append(arr_numbers, 15)\n",
    "arr_numbers"
   ]
  },
  {
   "cell_type": "code",
   "execution_count": 17,
   "id": "a9099029-fbd4-485a-ad8c-a32bb92b5bd4",
   "metadata": {},
   "outputs": [
    {
     "name": "stdout",
     "output_type": "stream",
     "text": [
      "[ 7  9 11 13 15 15 17]\n",
      "<class 'numpy.ndarray'>\n"
     ]
    }
   ],
   "source": [
    "hasil = np.append(arr_numbers, [15,17])\n",
    "print(hasil)\n",
    "print(type(hasil))"
   ]
  },
  {
   "cell_type": "code",
   "execution_count": 18,
   "id": "0f980ea5-8090-49c8-a424-8993f238d385",
   "metadata": {},
   "outputs": [
    {
     "name": "stdout",
     "output_type": "stream",
     "text": [
      "<class 'numpy.ndarray'>\n"
     ]
    }
   ],
   "source": [
    "tempel2list = np.append([1,2,3],[4,5,6])\n",
    "print(type(tempel2list))"
   ]
  },
  {
   "cell_type": "code",
   "execution_count": 19,
   "id": "591ff6b5-29ea-44af-8fe1-80a44aceb156",
   "metadata": {},
   "outputs": [
    {
     "data": {
      "text/plain": [
       "array([1, 3, 4, 5, 6])"
      ]
     },
     "execution_count": 19,
     "metadata": {},
     "output_type": "execute_result"
    }
   ],
   "source": [
    "np.delete(tempel2list, 1)"
   ]
  },
  {
   "cell_type": "code",
   "execution_count": 20,
   "id": "7e4b35e9-0ab2-43a3-9b65-42f2cf43b9fe",
   "metadata": {},
   "outputs": [
    {
     "name": "stdout",
     "output_type": "stream",
     "text": [
      "[1 3 4 5 6]\n"
     ]
    }
   ],
   "source": [
    "hasil_return = np.delete(tempel2list, 1)\n",
    "print(hasil_return)"
   ]
  },
  {
   "cell_type": "code",
   "execution_count": 21,
   "id": "2fb3cf84-3601-471b-bb60-ff507daaadb9",
   "metadata": {},
   "outputs": [
    {
     "data": {
      "text/plain": [
       "array([-30,  -5,  -1,   1,   5,  30])"
      ]
     },
     "execution_count": 21,
     "metadata": {},
     "output_type": "execute_result"
    }
   ],
   "source": [
    "random_nums = np.array([-1,1,-5,5,-30,30]) #array yang random atau tidak urut\n",
    "np.sort(random_nums) #jadi urut"
   ]
  },
  {
   "cell_type": "code",
   "execution_count": 22,
   "id": "fe078f7c-1106-4974-b896-af4e8e4f5872",
   "metadata": {},
   "outputs": [
    {
     "data": {
      "text/plain": [
       "array([ -1,   1,  -5,   5, -30,  30])"
      ]
     },
     "execution_count": 22,
     "metadata": {},
     "output_type": "execute_result"
    }
   ],
   "source": [
    "random_nums #tetap tidak berurutan karena tidak disort"
   ]
  },
  {
   "cell_type": "code",
   "execution_count": 23,
   "id": "16c68bb4-ca7c-4e59-be72-4ad29a78024c",
   "metadata": {},
   "outputs": [
    {
     "data": {
      "text/plain": [
       "1"
      ]
     },
     "execution_count": 23,
     "metadata": {},
     "output_type": "execute_result"
    }
   ],
   "source": [
    "random_nums.ndim"
   ]
  },
  {
   "cell_type": "code",
   "execution_count": 24,
   "id": "c0603485-8778-445e-b902-6c33fbe7a95a",
   "metadata": {},
   "outputs": [],
   "source": [
    "arr_2d = np.array([\n",
    "    [\"o\",\"x\",\"o\",\" \"],\n",
    "    [\"o\",\"x\",\"o\",\" \"],\n",
    "    [\"o\",\"x\",\"o\",\" \"],\n",
    "])"
   ]
  },
  {
   "cell_type": "code",
   "execution_count": 25,
   "id": "386f6400-544d-4122-ac46-a6cd8dc9b5b8",
   "metadata": {},
   "outputs": [
    {
     "data": {
      "text/plain": [
       "2"
      ]
     },
     "execution_count": 25,
     "metadata": {},
     "output_type": "execute_result"
    }
   ],
   "source": [
    "arr_2d.ndim"
   ]
  },
  {
   "cell_type": "code",
   "execution_count": 26,
   "id": "4aaa4306-9e5d-45ce-a4da-7bf187c99895",
   "metadata": {},
   "outputs": [
    {
     "data": {
      "text/plain": [
       "12"
      ]
     },
     "execution_count": 26,
     "metadata": {},
     "output_type": "execute_result"
    }
   ],
   "source": [
    "arr_2d.size"
   ]
  },
  {
   "cell_type": "code",
   "execution_count": 27,
   "id": "de43204e-10a8-4e48-b572-39c2e8dc9c69",
   "metadata": {},
   "outputs": [
    {
     "data": {
      "text/plain": [
       "6"
      ]
     },
     "execution_count": 27,
     "metadata": {},
     "output_type": "execute_result"
    }
   ],
   "source": [
    "random_nums.size"
   ]
  },
  {
   "cell_type": "code",
   "execution_count": 28,
   "id": "52f0a1bd-2977-4c28-ae3b-cf06cce972e8",
   "metadata": {},
   "outputs": [
    {
     "data": {
      "text/plain": [
       "(3, 4)"
      ]
     },
     "execution_count": 28,
     "metadata": {},
     "output_type": "execute_result"
    }
   ],
   "source": [
    "arr_2d.shape"
   ]
  },
  {
   "cell_type": "code",
   "execution_count": 29,
   "id": "4c66901e-3d28-4706-883d-55e630a0050c",
   "metadata": {},
   "outputs": [
    {
     "data": {
      "text/plain": [
       "(6,)"
      ]
     },
     "execution_count": 29,
     "metadata": {},
     "output_type": "execute_result"
    }
   ],
   "source": [
    "random_nums.shape"
   ]
  },
  {
   "cell_type": "code",
   "execution_count": 30,
   "id": "5aae7aed-548c-426d-a90b-afe9cbf81889",
   "metadata": {},
   "outputs": [
    {
     "data": {
      "text/plain": [
       "array([['o', 'x', 'o'],\n",
       "       [' ', 'o', 'x'],\n",
       "       ['o', ' ', 'o'],\n",
       "       ['x', 'o', ' ']], dtype='<U1')"
      ]
     },
     "execution_count": 30,
     "metadata": {},
     "output_type": "execute_result"
    }
   ],
   "source": [
    "transposed = arr_2d.reshape(4,3)\n",
    "transposed"
   ]
  },
  {
   "cell_type": "code",
   "execution_count": 31,
   "id": "a1df894b-646c-4a65-916d-4f462fd9d160",
   "metadata": {},
   "outputs": [
    {
     "data": {
      "text/plain": [
       "(4, 3)"
      ]
     },
     "execution_count": 31,
     "metadata": {},
     "output_type": "execute_result"
    }
   ],
   "source": [
    "transposed.shape"
   ]
  },
  {
   "cell_type": "code",
   "execution_count": 32,
   "id": "d2b11201-2ba1-4417-a149-18e921317036",
   "metadata": {},
   "outputs": [
    {
     "data": {
      "text/plain": [
       "array([[ -1,   1,  -5,   5, -30,  30]])"
      ]
     },
     "execution_count": 32,
     "metadata": {},
     "output_type": "execute_result"
    }
   ],
   "source": [
    "arr_nums_baru = random_nums [np.newaxis]\n",
    "arr_nums_baru"
   ]
  },
  {
   "cell_type": "code",
   "execution_count": 33,
   "id": "e5e22b2e-e46a-496a-9817-7ea6ac7f8f2d",
   "metadata": {},
   "outputs": [
    {
     "data": {
      "text/plain": [
       "array([[ -1,   1,  -5,   5, -30,  30]])"
      ]
     },
     "execution_count": 33,
     "metadata": {},
     "output_type": "execute_result"
    }
   ],
   "source": [
    "random_nums[np.newaxis, :]"
   ]
  },
  {
   "cell_type": "code",
   "execution_count": 34,
   "id": "05057e53-2d91-4804-b798-34067fd1ce04",
   "metadata": {},
   "outputs": [
    {
     "data": {
      "text/plain": [
       "array([[ -1],\n",
       "       [  1],\n",
       "       [ -5],\n",
       "       [  5],\n",
       "       [-30],\n",
       "       [ 30]])"
      ]
     },
     "execution_count": 34,
     "metadata": {},
     "output_type": "execute_result"
    }
   ],
   "source": [
    "random_nums[:, np.newaxis]"
   ]
  },
  {
   "cell_type": "code",
   "execution_count": 35,
   "id": "ff64989d-ff78-4b88-9db3-2bfb198b8e47",
   "metadata": {},
   "outputs": [
    {
     "data": {
      "text/plain": [
       "array([[ -1,   1,  -5,   5, -30,  30]])"
      ]
     },
     "execution_count": 35,
     "metadata": {},
     "output_type": "execute_result"
    }
   ],
   "source": [
    "np.expand_dims(random_nums, axis=0)"
   ]
  },
  {
   "cell_type": "code",
   "execution_count": 36,
   "id": "5dca04f4-448d-4ce3-af6e-8ca30ff40902",
   "metadata": {},
   "outputs": [
    {
     "data": {
      "text/plain": [
       "array([[ -1],\n",
       "       [  1],\n",
       "       [ -5],\n",
       "       [  5],\n",
       "       [-30],\n",
       "       [ 30]])"
      ]
     },
     "execution_count": 36,
     "metadata": {},
     "output_type": "execute_result"
    }
   ],
   "source": [
    "np.expand_dims(random_nums, axis=1)"
   ]
  },
  {
   "cell_type": "code",
   "execution_count": 37,
   "id": "f055d325-fbce-44c8-ba77-ed3506dae19e",
   "metadata": {},
   "outputs": [
    {
     "data": {
      "text/plain": [
       "array([  5, -30,  30])"
      ]
     },
     "execution_count": 37,
     "metadata": {},
     "output_type": "execute_result"
    }
   ],
   "source": [
    "random_nums[-3:]"
   ]
  },
  {
   "cell_type": "code",
   "execution_count": 38,
   "id": "baddc324-e206-4e74-a695-6d304b618533",
   "metadata": {},
   "outputs": [
    {
     "data": {
      "text/plain": [
       "array([  1,  -5,   5, -30])"
      ]
     },
     "execution_count": 38,
     "metadata": {},
     "output_type": "execute_result"
    }
   ],
   "source": [
    "random_nums[1:5]"
   ]
  },
  {
   "cell_type": "code",
   "execution_count": 39,
   "id": "6deaea70-c94e-4251-880e-652b59dc4a75",
   "metadata": {},
   "outputs": [],
   "source": [
    "#cara indexing dan slicing di numpy array sama persis dengan di list"
   ]
  },
  {
   "cell_type": "code",
   "execution_count": 44,
   "id": "d51b1412-1e28-4f3a-aca4-7b5b274f1690",
   "metadata": {},
   "outputs": [
    {
     "data": {
      "text/plain": [
       "array([ -1,  -5, -30])"
      ]
     },
     "execution_count": 44,
     "metadata": {},
     "output_type": "execute_result"
    }
   ],
   "source": [
    "random_nums[random_nums < 0]"
   ]
  },
  {
   "cell_type": "code",
   "execution_count": 45,
   "id": "66467504-2cfd-44aa-afcd-74a181509b13",
   "metadata": {},
   "outputs": [
    {
     "data": {
      "text/plain": [
       "array([-30,  30])"
      ]
     },
     "execution_count": 45,
     "metadata": {},
     "output_type": "execute_result"
    }
   ],
   "source": [
    "random_nums [random_nums %2 == 0]"
   ]
  },
  {
   "cell_type": "code",
   "execution_count": 46,
   "id": "c57c0c91-0aa6-4040-bc0b-c46d179772e7",
   "metadata": {},
   "outputs": [
    {
     "data": {
      "text/plain": [
       "array([-1,  1, -5,  5])"
      ]
     },
     "execution_count": 46,
     "metadata": {},
     "output_type": "execute_result"
    }
   ],
   "source": [
    "random_nums [random_nums %2 == 1]"
   ]
  },
  {
   "cell_type": "code",
   "execution_count": 47,
   "id": "c504fa06-ce2e-4629-a15a-766a1785a280",
   "metadata": {},
   "outputs": [
    {
     "data": {
      "text/plain": [
       "array([-1, -5])"
      ]
     },
     "execution_count": 47,
     "metadata": {},
     "output_type": "execute_result"
    }
   ],
   "source": [
    "random_nums [(random_nums < 0) & (random_nums %2 == 1)]"
   ]
  },
  {
   "cell_type": "code",
   "execution_count": 48,
   "id": "f831b87c-c318-4be6-9def-f2c156f933fb",
   "metadata": {},
   "outputs": [
    {
     "data": {
      "text/plain": [
       "array([[1, 2],\n",
       "       [3, 4]])"
      ]
     },
     "execution_count": 48,
     "metadata": {},
     "output_type": "execute_result"
    }
   ],
   "source": [
    "arr_a = np.array([[1,2], [3,4]])\n",
    "arr_a"
   ]
  },
  {
   "cell_type": "code",
   "execution_count": 49,
   "id": "1ba97cbb-a725-41e3-a267-e567c112fe0c",
   "metadata": {},
   "outputs": [
    {
     "data": {
      "text/plain": [
       "array([[5, 6],\n",
       "       [7, 8]])"
      ]
     },
     "execution_count": 49,
     "metadata": {},
     "output_type": "execute_result"
    }
   ],
   "source": [
    "arr_b = np.array ([[5,6], [7,8]])\n",
    "arr_b"
   ]
  },
  {
   "cell_type": "code",
   "execution_count": 50,
   "id": "45890ce6-69ed-47dd-9219-e425d43ee4ff",
   "metadata": {},
   "outputs": [
    {
     "data": {
      "text/plain": [
       "array([[1, 2],\n",
       "       [3, 4],\n",
       "       [5, 6],\n",
       "       [7, 8]])"
      ]
     },
     "execution_count": 50,
     "metadata": {},
     "output_type": "execute_result"
    }
   ],
   "source": [
    "np.vstack((arr_a, arr_b))"
   ]
  },
  {
   "cell_type": "code",
   "execution_count": 51,
   "id": "079aa47d-0237-4e91-8a3d-37d69e26d53f",
   "metadata": {},
   "outputs": [
    {
     "data": {
      "text/plain": [
       "array([[1, 2, 5, 6],\n",
       "       [3, 4, 7, 8]])"
      ]
     },
     "execution_count": 51,
     "metadata": {},
     "output_type": "execute_result"
    }
   ],
   "source": [
    "np.hstack((arr_a, arr_b))"
   ]
  },
  {
   "cell_type": "code",
   "execution_count": 52,
   "id": "378c4000-41c1-4d98-98be-6d3bf5b2809d",
   "metadata": {},
   "outputs": [
    {
     "data": {
      "text/plain": [
       "array([[5, 6],\n",
       "       [7, 8],\n",
       "       [1, 2],\n",
       "       [3, 4]])"
      ]
     },
     "execution_count": 52,
     "metadata": {},
     "output_type": "execute_result"
    }
   ],
   "source": [
    "np.vstack((arr_b, arr_a))"
   ]
  },
  {
   "cell_type": "code",
   "execution_count": 53,
   "id": "6d65e975-1d11-4d17-99a6-7abd744740a5",
   "metadata": {},
   "outputs": [
    {
     "data": {
      "text/plain": [
       "array([[1, 2, 5, 6],\n",
       "       [3, 4, 7, 8]])"
      ]
     },
     "execution_count": 53,
     "metadata": {},
     "output_type": "execute_result"
    }
   ],
   "source": [
    "h_arr = np.hstack((arr_a, arr_b))\n",
    "h_arr"
   ]
  },
  {
   "cell_type": "code",
   "execution_count": 54,
   "id": "c16655cd-5080-4342-a36e-f2a96dfdcd21",
   "metadata": {},
   "outputs": [
    {
     "name": "stdout",
     "output_type": "stream",
     "text": [
      "[array([[1],\n",
      "       [3]]), array([[2],\n",
      "       [4]]), array([[5],\n",
      "       [7]]), array([[6],\n",
      "       [8]])]\n",
      "<class 'list'>\n"
     ]
    }
   ],
   "source": [
    "hasil = np.hsplit(h_arr, 4) #hasil list yang isinya numpy array\n",
    "print(hasil)\n",
    "print(type(hasil))"
   ]
  },
  {
   "cell_type": "code",
   "execution_count": 55,
   "id": "bd0961d9-f2e6-45c3-8b32-83553be07bb4",
   "metadata": {},
   "outputs": [
    {
     "data": {
      "text/plain": [
       "[array([0., 0., 0.]),\n",
       " array([0., 0., 0.]),\n",
       " array([0., 0., 0.]),\n",
       " array([0., 0., 0.])]"
      ]
     },
     "execution_count": 55,
     "metadata": {},
     "output_type": "execute_result"
    }
   ],
   "source": [
    "np.hsplit(np.zeros(12), 4)"
   ]
  },
  {
   "cell_type": "code",
   "execution_count": 56,
   "id": "26f21485-975a-42d9-a9eb-0416b93d83ed",
   "metadata": {},
   "outputs": [
    {
     "data": {
      "text/plain": [
       "array([ 0,  1,  2,  3,  4,  5,  6,  7,  8,  9, 10, 11])"
      ]
     },
     "execution_count": 56,
     "metadata": {},
     "output_type": "execute_result"
    }
   ],
   "source": [
    "a = np.arange(12)\n",
    "a"
   ]
  },
  {
   "cell_type": "code",
   "execution_count": 57,
   "id": "43a0f15f-160a-4d4e-b796-b7471284abe3",
   "metadata": {},
   "outputs": [
    {
     "data": {
      "text/plain": [
       "array([ 0,  1,  2,  3,  4,  5,  6,  7,  8,  9, 10, 11])"
      ]
     },
     "execution_count": 57,
     "metadata": {},
     "output_type": "execute_result"
    }
   ],
   "source": [
    "b = a.view()\n",
    "b"
   ]
  },
  {
   "cell_type": "code",
   "execution_count": 62,
   "id": "ba69c41c-6a96-4092-acbd-af0ccd2525fa",
   "metadata": {},
   "outputs": [
    {
     "name": "stdout",
     "output_type": "stream",
     "text": [
      "[100   1   2   3   4   5   6   7   8   9  10  11]\n"
     ]
    }
   ],
   "source": [
    "np.append(b, [20,30])\n",
    "print(b)"
   ]
  },
  {
   "cell_type": "code",
   "execution_count": 59,
   "id": "a48979aa-d56a-4e43-9d10-aa34a275da82",
   "metadata": {},
   "outputs": [
    {
     "name": "stdout",
     "output_type": "stream",
     "text": [
      "[100   1   2   3   4   5   6   7   8   9  10  11]\n",
      "[100   1   2   3   4   5   6   7   8   9  10  11]\n"
     ]
    }
   ],
   "source": [
    "b[0] = 100\n",
    "print(b)\n",
    "print(a)"
   ]
  },
  {
   "cell_type": "code",
   "execution_count": 60,
   "id": "e848e315-5c6c-4bea-9802-82673d0b67a5",
   "metadata": {},
   "outputs": [
    {
     "name": "stdout",
     "output_type": "stream",
     "text": [
      "[ 9  1  2  3  4  5  6  7  8  9 10 11]\n",
      "[100   1   2   3   4   5   6   7   8   9  10  11]\n"
     ]
    }
   ],
   "source": [
    "c = a.copy()\n",
    "c[0]=9\n",
    "print(c)\n",
    "print(a)"
   ]
  },
  {
   "cell_type": "code",
   "execution_count": 71,
   "id": "b2749cbf-41a8-429e-bfbe-ba91518be035",
   "metadata": {},
   "outputs": [
    {
     "data": {
      "text/plain": [
       "array([[1, 2, 5, 6],\n",
       "       [3, 4, 7, 8]])"
      ]
     },
     "execution_count": 71,
     "metadata": {},
     "output_type": "execute_result"
    }
   ],
   "source": [
    "h_arr"
   ]
  },
  {
   "cell_type": "code",
   "execution_count": 64,
   "id": "7cb35ebb-a314-423f-a288-ca13ce3ba18a",
   "metadata": {},
   "outputs": [
    {
     "data": {
      "text/plain": [
       "array([ 4,  6, 12, 14])"
      ]
     },
     "execution_count": 64,
     "metadata": {},
     "output_type": "execute_result"
    }
   ],
   "source": [
    "h_arr.sum(axis=0)"
   ]
  },
  {
   "cell_type": "code",
   "execution_count": 65,
   "id": "87a6eaca-9699-4038-b324-e80c9ef94424",
   "metadata": {},
   "outputs": [
    {
     "data": {
      "text/plain": [
       "array([14, 22])"
      ]
     },
     "execution_count": 65,
     "metadata": {},
     "output_type": "execute_result"
    }
   ],
   "source": [
    "h_arr.sum(axis=1)"
   ]
  },
  {
   "cell_type": "code",
   "execution_count": 75,
   "id": "fa8acb3e-75e8-4200-9ccc-9792de107605",
   "metadata": {},
   "outputs": [
    {
     "data": {
      "text/plain": [
       "array([[2., 3., 6., 7.],\n",
       "       [4., 5., 8., 9.]])"
      ]
     },
     "execution_count": 75,
     "metadata": {},
     "output_type": "execute_result"
    }
   ],
   "source": [
    "h_arr + np.ones(8).reshape(2,4)"
   ]
  },
  {
   "cell_type": "code",
   "execution_count": 76,
   "id": "40fddc52-bb88-405b-aeb2-d0c3cf5a09ff",
   "metadata": {},
   "outputs": [
    {
     "data": {
      "text/plain": [
       "array([[0., 1., 4., 5.],\n",
       "       [2., 3., 6., 7.]])"
      ]
     },
     "execution_count": 76,
     "metadata": {},
     "output_type": "execute_result"
    }
   ],
   "source": [
    "h_arr - np.ones(8).reshape(2,4)"
   ]
  },
  {
   "cell_type": "code",
   "execution_count": 77,
   "id": "94c921a5-0606-48b3-8228-bbb2178b0b93",
   "metadata": {},
   "outputs": [
    {
     "data": {
      "text/plain": [
       "array([[2., 3., 6., 7.],\n",
       "       [4., 5., 8., 9.]])"
      ]
     },
     "execution_count": 77,
     "metadata": {},
     "output_type": "execute_result"
    }
   ],
   "source": [
    "h_arr * np.ones(8).reshape(2,4) + np.ones(8).reshape(2,4)"
   ]
  },
  {
   "cell_type": "code",
   "execution_count": 78,
   "id": "6c784f2b-8129-457c-b005-2c00e9483370",
   "metadata": {},
   "outputs": [
    {
     "data": {
      "text/plain": [
       "array([[2., 3., 6., 7.],\n",
       "       [4., 5., 8., 9.]])"
      ]
     },
     "execution_count": 78,
     "metadata": {},
     "output_type": "execute_result"
    }
   ],
   "source": [
    "h_arr / np.ones(8).reshape(2,4) + np.ones(8).reshape(2,4)"
   ]
  },
  {
   "cell_type": "code",
   "execution_count": 79,
   "id": "525c3cf9-3697-423a-841c-3bb44477204b",
   "metadata": {},
   "outputs": [
    {
     "data": {
      "text/plain": [
       "array([[ 2,  4, 10, 12],\n",
       "       [ 6,  8, 14, 16]])"
      ]
     },
     "execution_count": 79,
     "metadata": {},
     "output_type": "execute_result"
    }
   ],
   "source": [
    "h_arr *2"
   ]
  },
  {
   "cell_type": "code",
   "execution_count": 80,
   "id": "a5ab4244-c150-4a91-8086-42f2e1afd95e",
   "metadata": {},
   "outputs": [
    {
     "data": {
      "text/plain": [
       "array([[0.5, 1. , 2.5, 3. ],\n",
       "       [1.5, 2. , 3.5, 4. ]])"
      ]
     },
     "execution_count": 80,
     "metadata": {},
     "output_type": "execute_result"
    }
   ],
   "source": [
    "h_arr/2"
   ]
  },
  {
   "cell_type": "code",
   "execution_count": 81,
   "id": "36426ff6-28fd-4f58-8172-48b687762ae2",
   "metadata": {},
   "outputs": [
    {
     "data": {
      "text/plain": [
       "array([[ 3,  4,  7,  8],\n",
       "       [ 5,  6,  9, 10]])"
      ]
     },
     "execution_count": 81,
     "metadata": {},
     "output_type": "execute_result"
    }
   ],
   "source": [
    "h_arr +2"
   ]
  },
  {
   "cell_type": "code",
   "execution_count": 83,
   "id": "5a22777c-9737-4f3e-a32e-f5993429baef",
   "metadata": {},
   "outputs": [
    {
     "data": {
      "text/plain": [
       "array([[ 4,  5,  8,  9],\n",
       "       [ 6,  7, 10, 11]])"
      ]
     },
     "execution_count": 83,
     "metadata": {},
     "output_type": "execute_result"
    }
   ],
   "source": [
    "data_awal = h_arr +3\n",
    "data_awal"
   ]
  },
  {
   "cell_type": "code",
   "execution_count": 84,
   "id": "7e92486a-9a91-4760-a2aa-547ee328354a",
   "metadata": {},
   "outputs": [
    {
     "data": {
      "text/plain": [
       "4"
      ]
     },
     "execution_count": 84,
     "metadata": {},
     "output_type": "execute_result"
    }
   ],
   "source": [
    "# min max sum mean std\n",
    "\n",
    "data_awal.min()"
   ]
  },
  {
   "cell_type": "code",
   "execution_count": 85,
   "id": "dfe8ff98-5497-430a-b130-1e47a9ef1fc0",
   "metadata": {},
   "outputs": [
    {
     "data": {
      "text/plain": [
       "11"
      ]
     },
     "execution_count": 85,
     "metadata": {},
     "output_type": "execute_result"
    }
   ],
   "source": [
    "data_awal.max()"
   ]
  },
  {
   "cell_type": "code",
   "execution_count": 86,
   "id": "e17f82ec-be98-4a07-b8b2-69b425de25ae",
   "metadata": {},
   "outputs": [
    {
     "data": {
      "text/plain": [
       "60"
      ]
     },
     "execution_count": 86,
     "metadata": {},
     "output_type": "execute_result"
    }
   ],
   "source": [
    "data_awal.sum()"
   ]
  },
  {
   "cell_type": "code",
   "execution_count": 87,
   "id": "7a41e06b-9d3b-4610-81fa-307347265cc4",
   "metadata": {},
   "outputs": [
    {
     "data": {
      "text/plain": [
       "7.5"
      ]
     },
     "execution_count": 87,
     "metadata": {},
     "output_type": "execute_result"
    }
   ],
   "source": [
    "data_awal.mean()"
   ]
  },
  {
   "cell_type": "code",
   "execution_count": 88,
   "id": "3bda017e-acd1-4756-96f1-da1e88539121",
   "metadata": {},
   "outputs": [
    {
     "data": {
      "text/plain": [
       "2.29128784747792"
      ]
     },
     "execution_count": 88,
     "metadata": {},
     "output_type": "execute_result"
    }
   ],
   "source": [
    "data_awal.std()"
   ]
  },
  {
   "cell_type": "code",
   "execution_count": 89,
   "id": "3ed0505b-9757-4477-85ed-33eceb4fe2b4",
   "metadata": {},
   "outputs": [
    {
     "data": {
      "text/plain": [
       "[[1, 2], [3, 4]]"
      ]
     },
     "execution_count": 89,
     "metadata": {},
     "output_type": "execute_result"
    }
   ],
   "source": [
    "#Matrix\n",
    "\n",
    "[\n",
    "    [1,2],\n",
    "    [3,4]\n",
    "    \n",
    "]"
   ]
  },
  {
   "cell_type": "code",
   "execution_count": 101,
   "id": "57bda268-78e5-4a49-82e8-e79f4bbd389c",
   "metadata": {},
   "outputs": [
    {
     "data": {
      "text/plain": [
       "array([[ 58,  64],\n",
       "       [139, 154]])"
      ]
     },
     "execution_count": 101,
     "metadata": {},
     "output_type": "execute_result"
    }
   ],
   "source": [
    "m1 = np.array([\n",
    "    [1,2,3],\n",
    "    [4,5,6]\n",
    "])\n",
    "\n",
    "m2= np.array([\n",
    "    [7,8],\n",
    "    [9,10],\n",
    "    [11,12]\n",
    "])\n",
    "\n",
    "hasil = np.dot(m1, m2) #melakukan dot product antar 2 matrix\n",
    "hasil"
   ]
  },
  {
   "cell_type": "code",
   "execution_count": 102,
   "id": "e31e6245-7a7c-406d-a101-af1266955b1d",
   "metadata": {},
   "outputs": [
    {
     "data": {
      "text/plain": [
       "58"
      ]
     },
     "execution_count": 102,
     "metadata": {},
     "output_type": "execute_result"
    }
   ],
   "source": [
    "hasil[0,0]"
   ]
  },
  {
   "cell_type": "code",
   "execution_count": 103,
   "id": "e736327c-e350-4250-b100-973a8c0347c6",
   "metadata": {},
   "outputs": [
    {
     "data": {
      "text/plain": [
       "array([139, 154])"
      ]
     },
     "execution_count": 103,
     "metadata": {},
     "output_type": "execute_result"
    }
   ],
   "source": [
    "hasil[1]"
   ]
  },
  {
   "cell_type": "code",
   "execution_count": 104,
   "id": "9cbb4f2c-8f4b-418f-8dd7-8866e102ab95",
   "metadata": {},
   "outputs": [
    {
     "data": {
      "text/plain": [
       "154"
      ]
     },
     "execution_count": 104,
     "metadata": {},
     "output_type": "execute_result"
    }
   ],
   "source": [
    "hasil[1,1]"
   ]
  },
  {
   "cell_type": "code",
   "execution_count": 105,
   "id": "d78a1814-6bef-40b2-bf35-73869bf8a816",
   "metadata": {},
   "outputs": [
    {
     "data": {
      "text/plain": [
       "array([ 64, 154])"
      ]
     },
     "execution_count": 105,
     "metadata": {},
     "output_type": "execute_result"
    }
   ],
   "source": [
    "hasil[:,1]"
   ]
  },
  {
   "cell_type": "code",
   "execution_count": 106,
   "id": "6d173445-a126-4db2-bee7-7c4299de5734",
   "metadata": {},
   "outputs": [
    {
     "data": {
      "text/plain": [
       "array([[ 7,  8],\n",
       "       [ 9, 10],\n",
       "       [11, 12]])"
      ]
     },
     "execution_count": 106,
     "metadata": {},
     "output_type": "execute_result"
    }
   ],
   "source": [
    "m2"
   ]
  },
  {
   "cell_type": "code",
   "execution_count": 109,
   "id": "f0da56de-7307-4b4d-ad46-c592fe0078f8",
   "metadata": {},
   "outputs": [
    {
     "data": {
      "text/plain": [
       "array([[ 7,  8,  9],\n",
       "       [10, 11, 12]])"
      ]
     },
     "execution_count": 109,
     "metadata": {},
     "output_type": "execute_result"
    }
   ],
   "source": [
    "m2.reshape(2,3)"
   ]
  },
  {
   "cell_type": "code",
   "execution_count": 110,
   "id": "d0dbfbca-ba35-49ba-86a5-c96c06341311",
   "metadata": {},
   "outputs": [
    {
     "data": {
      "text/plain": [
       "array([[ 7,  9, 11],\n",
       "       [ 8, 10, 12]])"
      ]
     },
     "execution_count": 110,
     "metadata": {},
     "output_type": "execute_result"
    }
   ],
   "source": [
    "m2.T #row 1 jadi kolom 1, row 2 jadi kolom 2, dst"
   ]
  },
  {
   "cell_type": "code",
   "execution_count": 111,
   "id": "646976b6-754e-47a4-9f5e-8fb6acc7c02c",
   "metadata": {},
   "outputs": [
    {
     "data": {
      "text/plain": [
       "array([0., 0., 0.])"
      ]
     },
     "execution_count": 111,
     "metadata": {},
     "output_type": "execute_result"
    }
   ],
   "source": [
    "np.zeros(3)"
   ]
  },
  {
   "cell_type": "code",
   "execution_count": 119,
   "id": "cd9f472a-0b1c-49ee-9f8a-cb2a33381257",
   "metadata": {},
   "outputs": [
    {
     "data": {
      "text/plain": [
       "array([[0., 0.],\n",
       "       [0., 0.],\n",
       "       [0., 0.],\n",
       "       [0., 0.],\n",
       "       [0., 0.]])"
      ]
     },
     "execution_count": 119,
     "metadata": {},
     "output_type": "execute_result"
    }
   ],
   "source": [
    "np.zeros((5,2))"
   ]
  },
  {
   "cell_type": "code",
   "execution_count": 118,
   "id": "ecb13c91-617e-4572-9736-3398d5ef9e74",
   "metadata": {},
   "outputs": [
    {
     "data": {
      "text/plain": [
       "array([[[0.],\n",
       "        [0.]],\n",
       "\n",
       "       [[0.],\n",
       "        [0.]],\n",
       "\n",
       "       [[0.],\n",
       "        [0.]],\n",
       "\n",
       "       [[0.],\n",
       "        [0.]],\n",
       "\n",
       "       [[0.],\n",
       "        [0.]]])"
      ]
     },
     "execution_count": 118,
     "metadata": {},
     "output_type": "execute_result"
    }
   ],
   "source": [
    "np.zeros((5,2,1))"
   ]
  },
  {
   "cell_type": "code",
   "execution_count": 120,
   "id": "0bf86806-b921-4922-b6a0-3c4ef5b2f4fb",
   "metadata": {},
   "outputs": [
    {
     "data": {
      "text/plain": [
       "array([0.13524336, 0.81932516])"
      ]
     },
     "execution_count": 120,
     "metadata": {},
     "output_type": "execute_result"
    }
   ],
   "source": [
    "np.random.random(2)"
   ]
  },
  {
   "cell_type": "code",
   "execution_count": 122,
   "id": "3032e5d0-fad0-4122-adc9-4e23247fe5a0",
   "metadata": {},
   "outputs": [
    {
     "data": {
      "text/plain": [
       "array([0.79373166, 0.65984268, 0.40310608, 0.10835709, 0.32362122])"
      ]
     },
     "execution_count": 122,
     "metadata": {},
     "output_type": "execute_result"
    }
   ],
   "source": [
    "np.random.random(5)"
   ]
  },
  {
   "cell_type": "code",
   "execution_count": 125,
   "id": "d49485ba-4e02-4dfe-8617-1c05320d9a0c",
   "metadata": {},
   "outputs": [],
   "source": [
    "arr_3d = np.zeros((5,2,3))"
   ]
  },
  {
   "cell_type": "code",
   "execution_count": 126,
   "id": "40c92bc8-c510-484e-aea4-63e5253d28bf",
   "metadata": {},
   "outputs": [
    {
     "data": {
      "text/plain": [
       "array([0., 0., 0., 0., 0., 0., 0., 0., 0., 0., 0., 0., 0., 0., 0., 0., 0.,\n",
       "       0., 0., 0., 0., 0., 0., 0., 0., 0., 0., 0., 0., 0.])"
      ]
     },
     "execution_count": 126,
     "metadata": {},
     "output_type": "execute_result"
    }
   ],
   "source": [
    "arr_3d.flatten() #menjadi satu dimensi"
   ]
  },
  {
   "cell_type": "code",
   "execution_count": 128,
   "id": "8fa7735a-6d7d-4406-b5ae-02714bc44969",
   "metadata": {},
   "outputs": [
    {
     "data": {
      "text/plain": [
       "array([0., 0., 0., 0., 0., 0., 0., 0., 0., 0., 0., 0., 0., 0., 0., 0., 0.,\n",
       "       0., 0., 0., 0., 0., 0., 0., 0., 0., 0., 0., 0., 0.])"
      ]
     },
     "execution_count": 128,
     "metadata": {},
     "output_type": "execute_result"
    }
   ],
   "source": [
    "arr_3d.ravel() #sama seperti flatten tapi shallow copy, seperti view"
   ]
  },
  {
   "cell_type": "code",
   "execution_count": null,
   "id": "33238ecc-e0e0-40a4-a342-8028ef00e067",
   "metadata": {},
   "outputs": [],
   "source": []
  }
 ],
 "metadata": {
  "kernelspec": {
   "display_name": "Python 3",
   "language": "python",
   "name": "python3"
  },
  "language_info": {
   "codemirror_mode": {
    "name": "ipython",
    "version": 3
   },
   "file_extension": ".py",
   "mimetype": "text/x-python",
   "name": "python",
   "nbconvert_exporter": "python",
   "pygments_lexer": "ipython3",
   "version": "3.8.8"
  }
 },
 "nbformat": 4,
 "nbformat_minor": 5
}
